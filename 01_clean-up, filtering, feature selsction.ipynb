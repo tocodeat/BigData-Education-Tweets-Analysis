{
 "cells": [
  {
   "cell_type": "markdown",
   "id": "a1a7a248-220a-4933-a12c-db48c6e4bf08",
   "metadata": {},
   "source": [
    "## Part 1"
   ]
  },
  {
   "cell_type": "code",
   "execution_count": 1,
   "id": "816e0738-00f1-41e2-8000-2da77fc2dcb2",
   "metadata": {},
   "outputs": [
    {
     "name": "stdout",
     "output_type": "stream",
     "text": [
      "3.8.15 | packaged by conda-forge | (default, Nov 22 2022, 08:46:39) \n",
      "[GCC 10.4.0]\n",
      "3.1.3\n"
     ]
    }
   ],
   "source": [
    "import sys\n",
    "print(sys.version)\n",
    "print(spark.version)"
   ]
  },
  {
   "cell_type": "code",
   "execution_count": 2,
   "id": "bafcf964-892c-4924-afbb-51f1ff139ce9",
   "metadata": {},
   "outputs": [],
   "source": [
    "import os\n",
    "import time\n",
    "import subprocess\n",
    "\n",
    "from pyspark.sql.functions import *\n",
    "from pyspark.sql.types import *\n",
    "\n",
    "from pyspark.sql import SQLContext\n",
    "sqlContext = SQLContext(sc)"
   ]
  },
  {
   "cell_type": "code",
   "execution_count": 3,
   "id": "1912c400-be01-4437-9e64-562cac01305f",
   "metadata": {},
   "outputs": [],
   "source": [
    "warnings.filterwarnings(action='ignore')\n",
    "spark = SparkSession.builder.getOrCreate()\n",
    "\n",
    "##Add \"eagerEval.enabled\" to beautify the way Spark DF is displayed\n",
    "spark.conf.set(\"spark.sql.repl.eagerEval.enabled\",True)\n",
    "\n",
    "## To use legacy casting notation for date\n",
    "spark.conf.set(\"spark.sql.legacy.timeParserPolicy\",\"LEGACY\")"
   ]
  },
  {
   "cell_type": "code",
   "execution_count": null,
   "id": "5f066ef2-e474-4970-bc19-d27af147ee7f",
   "metadata": {},
   "outputs": [],
   "source": [
    "bucket_name = 'ksr-tweet-bucket'\n",
    "prefix = 'tweet_project'\n",
    "\n",
    "cmd = 'hadoop fs -du -s -h ' + 'gs://' + bucket_name + '/' + prefix + '/'\n",
    "\n",
    "dat = subprocess.Popen(cmd, shell=True, stdout=subprocess.PIPE, stderr=subprocess.STDOUT, universal_newlines=True)\n",
    "for line in dat.stdout.readlines():\n",
    "    print (line)\n",
    "    \n",
    "vol = dat.wait()"
   ]
  },
  {
   "cell_type": "code",
   "execution_count": null,
   "id": "3bb57ac5-7fd9-4dd9-bfdb-54551fbbf455",
   "metadata": {},
   "outputs": [],
   "source": [
    "!hadoop fs -ls 'gs://ksr-tweet-bucket/tweet_project/' | head"
   ]
  },
  {
   "cell_type": "code",
   "execution_count": null,
   "id": "b187e0fd-2006-4bfd-831f-55aa8ca44bfa",
   "metadata": {},
   "outputs": [
    {
     "name": "stderr",
     "output_type": "stream",
     "text": [
      "23/03/10 19:36:59 WARN org.apache.spark.scheduler.cluster.YarnScheduler: Initial job has not accepted any resources; check your cluster UI to ensure that workers are registered and have sufficient resources\n",
      "23/03/10 19:37:14 WARN org.apache.spark.scheduler.cluster.YarnScheduler: Initial job has not accepted any resources; check your cluster UI to ensure that workers are registered and have sufficient resources\n",
      "23/03/10 19:45:03 WARN org.apache.spark.sql.execution.datasources.SharedInMemoryCache: Evicting cached table partition metadata from memory due to size constraints (spark.sql.hive.filesourcePartitionFileCacheSize = 262144000 bytes). This may impact query planning performance.\n",
      "23/03/10 20:25:25 WARN org.apache.spark.sql.catalyst.util.package: Truncated the string representation of a plan since it was too large. This behavior can be adjusted by setting 'spark.sql.debug.maxToStringFields'.\n"
     ]
    }
   ],
   "source": [
    "raw_tweets = spark.read.json('gs://' + bucket_name + '/' + prefix)\n"
   ]
  },
  {
   "cell_type": "code",
   "execution_count": null,
   "id": "d09e5bd7-f763-4aca-9d67-8994a70c574d",
   "metadata": {},
   "outputs": [
    {
     "name": "stderr",
     "output_type": "stream",
     "text": [
      "[Stage 2:====================================================>(5739 + 2) / 5741]\r"
     ]
    },
    {
     "name": "stdout",
     "output_type": "stream",
     "text": [
      "99994342\n"
     ]
    },
    {
     "name": "stderr",
     "output_type": "stream",
     "text": [
      "                                                                                \r"
     ]
    }
   ],
   "source": [
    "print(raw_tweets.count())"
   ]
  },
  {
   "cell_type": "code",
   "execution_count": null,
   "id": "dccf506f-f50d-48a1-9523-791647cb4063",
   "metadata": {},
   "outputs": [
    {
     "name": "stderr",
     "output_type": "stream",
     "text": [
      "[Stage 5:>                                                          (0 + 1) / 1]\r"
     ]
    },
    {
     "name": "stdout",
     "output_type": "stream",
     "text": [
      "+-----------+--------------------+------------------+--------------------+-----------------+--------------------+--------------+---------+------------+----+-------------------+-------------------+-----------------------+---------------------+-------------------------+-------------------+-----------------------+---------------+----+-----+------------------+-----------+--------------------+-------------------+--------------------+-----------------------+--------------------+-----------+-------------+---------+--------------+--------------------+--------------------+--------------------+-------------+---------+--------------------+--------------------+---------------------+\n",
      "|coordinates|          created_at|display_text_range|            entities|extended_entities|      extended_tweet|favorite_count|favorited|filter_level| geo|                 id|             id_str|in_reply_to_screen_name|in_reply_to_status_id|in_reply_to_status_id_str|in_reply_to_user_id|in_reply_to_user_id_str|is_quote_status|lang|place|possibly_sensitive|quote_count|       quoted_status|   quoted_status_id|quoted_status_id_str|quoted_status_permalink|         quoted_text|reply_count|retweet_count|retweeted|retweeted_from|    retweeted_status|              source|                text| timestamp_ms|truncated|          tweet_text|                user|withheld_in_countries|\n",
      "+-----------+--------------------+------------------+--------------------+-----------------+--------------------+--------------+---------+------------+----+-------------------+-------------------+-----------------------+---------------------+-------------------------+-------------------+-----------------------+---------------+----+-----+------------------+-----------+--------------------+-------------------+--------------------+-----------------------+--------------------+-----------+-------------+---------+--------------+--------------------+--------------------+--------------------+-------------+---------+--------------------+--------------------+---------------------+\n",
      "|       null|Wed May 25 21:22:...|              null|{[], null, [], []...|             null|                null|             0|    false|         low|null|1529573716455202817|1529573716455202817|                   null|                 null|                     null|               null|                   null|          false|  en| null|              null|          0|                null|               null|                null|                   null|                null|          0|            0|       RT|   AaronParnas|{null, Wed May 25...|<a href=\"http://t...|RT @AaronParnas: ...|1653513766765|    false|If you are more u...|{false, Sat Nov 0...|                 null|\n",
      "|       null|Wed May 25 21:22:...|              null|{[], null, [], [{...|             null|{[0, 228], {[], n...|             0|    false|         low|null|1529573716602064901|1529573716602064901|                   null|                 null|                     null|               null|                   null|          false|  en| null|              null|          0|                null|               null|                null|                   null|                null|          0|            0|         |          null|                null|<a href=\"https://...|Fun fact: In Germ...|1653513766800|     true|Fun fact: In Germ...|{false, Fri Jan 1...|                 null|\n",
      "|       null|Wed May 25 21:22:...|              null|{[], null, [], []...|             null|                null|             0|    false|         low|null|1529573716921040896|1529573716921040896|                   null|                 null|                     null|               null|                   null|          false|  en| null|              null|          0|                null|               null|                null|                   null|                null|          0|            0|       RT|   MoneyMiaaaa|{null, Tue May 24...|<a href=\"https://...|RT @MoneyMiaaaa: ...|1653513766876|    false|26 school shootin...|{false, Tue Dec 1...|                 null|\n",
      "|       null|Wed May 25 21:22:...|              null|{[], null, [], []...|             null|                null|             0|    false|         low|null|1529573717583478787|1529573717583478787|                   null|                 null|                     null|               null|                   null|          false|  en| null|              null|          0|                null|               null|                null|                   null|                null|          0|            0|       RT|   MoneyMiaaaa|{null, Tue May 24...|<a href=\"http://t...|RT @MoneyMiaaaa: ...|1653513767034|    false|26 school shootin...|{false, Fri Feb 1...|                 null|\n",
      "|       null|Wed May 25 21:22:...|              null|{[], null, [], [{...|             null|{[0, 261], {[], [...|             0|    false|         low|null|1529573717243830275|1529573717243830275|                   null|                 null|                     null|               null|                   null|           true|  en| null|             false|          0|{null, Sat Apr 02...|1510361661085036544| 1510361661085036544|   {twitter.com/0law...|For Sale \n",
      "\n",
      "A plot...|          0|            0|         |          null|                null|<a href=\"http://t...|FOR SALE\n",
      "\n",
      "Mixed u...|1653513766953|     true|FOR SALE\n",
      "\n",
      "Mixed u...|{false, Thu Nov 1...|                 null|\n",
      "+-----------+--------------------+------------------+--------------------+-----------------+--------------------+--------------+---------+------------+----+-------------------+-------------------+-----------------------+---------------------+-------------------------+-------------------+-----------------------+---------------+----+-----+------------------+-----------+--------------------+-------------------+--------------------+-----------------------+--------------------+-----------+-------------+---------+--------------+--------------------+--------------------+--------------------+-------------+---------+--------------------+--------------------+---------------------+\n",
      "only showing top 5 rows\n",
      "\n"
     ]
    },
    {
     "name": "stderr",
     "output_type": "stream",
     "text": [
      "                                                                                \r"
     ]
    }
   ],
   "source": [
    "raw_tweets.show(5)"
   ]
  },
  {
   "cell_type": "code",
   "execution_count": null,
   "id": "912d8d50-5176-4b55-b925-f5919082a93c",
   "metadata": {},
   "outputs": [],
   "source": [
    "#filter for english text\n",
    "raw_tweets = raw_tweets.filter(raw_tweets.lang == \"en\")"
   ]
  },
  {
   "cell_type": "code",
   "execution_count": null,
   "id": "028b6009-708b-4d8b-9432-1d2f1fbf8517",
   "metadata": {},
   "outputs": [],
   "source": [
    "from pyspark.sql.functions import col, lower, regexp_replace, trim\n",
    "\n",
    "raw_tweets = raw_tweets\\\n",
    "    .withColumn('tweet_text', lower('tweet_text'))\\\n",
    "    .withColumn('stripped', regexp_replace(col(\"tweet_text\"), \"[^a-zA-Z ]\", \"\"))\\\n",
    "    .withColumn('stripped', trim(col('stripped')))"
   ]
  },
  {
   "cell_type": "code",
   "execution_count": null,
   "id": "1f08ee0e-3cc9-4261-a93e-25757ce8a10d",
   "metadata": {},
   "outputs": [],
   "source": [
    "# List of words related to K-12 & Higher Education\n",
    "edu_words = [\"K-12\", \"primary school\", \"middle school\", \"secondary school\", \"high school\", \"kindergarten\", \n",
    "             \"preschool\", \"teacher\", \"educationist\", \"academia\", \"undergrad\", \"graduate\", \"undergraduate\", \n",
    "             \"PhD\", \"STEM\", \"math\", \"mathematics\", \"science\", \"physics\", \"chemistry\", \"biology\", \"humanities\", \n",
    "             \"history\", \"philosophy\", \"alma mater\", \"educating\", \"teaching\", \"curriculum\", \"syllabus\", \n",
    "             \"online learning\", \"educational\", \"textbook\", \"schooling\", \"training\", \"knowledge\", \"scholarship\", \n",
    "             \"literacy\", \"tuition\", \"academic\", \"course\", \"classroom\", \"classwork\", \"social-emotional learning\",\n",
    "             \"college\", \"university\", \"student\", \"professor\", \"campus\", \"degree\", \"major\", \"minor\", \n",
    "             \"enrollment\", \"application\", \"admission\", \"graduate school\", \"scholar\", \"research\", \"thesis\", \n",
    "             \"dissertation\", \"lecture\", \"academic paper\", \"institute\", \"study abroad\", \"distance learning\", \n",
    "             \"tutor\", \"peer review\", \"online course\", \"MOOC\", \"learning outcome\", \"education reform\"]\n",
    "\n",
    "\n",
    "# List of words to remove from tweets\n",
    "rm_words = [\"Uvalde\", \"shoot\", \"shooting\", \"shootings\", \"gun\", \"guns\", \"gunned\", \"kill\", \n",
    "            \"killed\", \"murder\", \"deceased\", \"attack\", \"horny\", \"porn\", \"sexy\", \"nude\", \n",
    "            \"naked\", \"drug\", \"drugs\", \"dope\", \"high\", \"addict\", \"addiction\", \n",
    "            \"stoned\", \"weed\", \"cocaine\", \"heroin\", \"opioid\", \"gamble\", \"gambling\", \n",
    "            \"betting\", \"bet\", \"casino\", \"poker\", \"slot\", \"sex\", \"escort\", \"prostitute\", \n",
    "            \"money\", \"cash\", \"payday\", \"loan\", \"debt\", \"bankrupt\", \"bankruptcy\", \"fraud\", \n",
    "            \"scam\", \"scammer\", \"hack\", \"hacker\", \"hacking\", \"virus\", \"malware\", \"spyware\"]\n",
    "\n",
    "import re\n",
    "\n",
    "def create_regex(word_list):\n",
    "    \"\"\"\n",
    "    Create a regular expression to filter tweets based on a list of words.\n",
    "    \"\"\"\n",
    "    regex = '|'.join([\"(\" + re.escape(word) + \")\" for word in word_list])\n",
    "    return regex\n",
    "\n",
    "# Create regular expressions for education and removal words\n",
    "edu_regex = create_regex(edu_words)\n",
    "rm_regex = create_regex(rm_words)\n",
    "\n",
    "# Filter tweets based on the regular expressions\n",
    "edu_tweets = raw_tweets.filter(raw_tweets['tweet_text'].rlike(edu_regex)).\\\n",
    "    filter(~raw_tweets['tweet_text'].rlike(rm_regex))\n"
   ]
  },
  {
   "cell_type": "code",
   "execution_count": null,
   "id": "55315f46-1b8e-4273-a257-722a63ea85fd",
   "metadata": {
    "scrolled": true,
    "tags": []
   },
   "outputs": [],
   "source": [
    "edu_tweets.select(count('*').alias('after_filt')).show()"
   ]
  },
  {
   "cell_type": "code",
   "execution_count": null,
   "id": "7802b0f5-bdbf-4675-8ad9-908bb55c8422",
   "metadata": {},
   "outputs": [],
   "source": [
    "edu_tweets.limit(5)"
   ]
  },
  {
   "cell_type": "code",
   "execution_count": null,
   "id": "6be7d0d9-5a5b-4021-99fe-199475c4808f",
   "metadata": {},
   "outputs": [],
   "source": [
    "edu_tweets.describe()"
   ]
  },
  {
   "cell_type": "code",
   "execution_count": null,
   "id": "e867db34-9339-40e7-b652-b0729fd7f963",
   "metadata": {},
   "outputs": [],
   "source": [
    "## calculate the percentage of null values in each column \n",
    "edu_tweets.select([(count(when(col(c).isNull(), c))/count(lit(1))).alias(c) for c in edu_tweets.schema.names]).show(truncate=True)"
   ]
  },
  {
   "cell_type": "code",
   "execution_count": null,
   "id": "a852382e-edd4-49e6-bfe9-95fbe16e739c",
   "metadata": {},
   "outputs": [],
   "source": [
    "tweet_columns = [\"coordinates\", \"created_at\", \"id_str\", \"retweeted_status\", \n",
    "                 \"tweet_text\", \"text\"]\n",
    "\n",
    "user_columns = [\"created_at\", \"description\", \"followers_count\", \"id_str\", \n",
    "                \"name\", \"screen_name\", \"verified\", \"location\"]\n",
    "\n",
    "retweet_columns = [\"retweet_count\", \"favorite_count\", \"reply_count\", \"quote_count\"]\n",
    "\n",
    "quoted_columns = [\"quote_count\"]\n",
    "\n",
    "new_df = edu_tweets.select([*[col('user.' + col_name).alias('user_' + col_name) for col_name in user_columns],\n",
    "                            *[col(col_name).alias('tweet_' + col_name) for col_name in tweet_columns],\n",
    "                            *[col('retweeted_status.' + col_name).alias(col_name) for col_name in retweet_columns]])\\\n",
    "                   .withColumn('user_created_at', to_timestamp(col('user_created_at'), 'EEE MMM dd HH:mm:ss zzzzz yyyy'))\\\n",
    "                   .withColumn('tweet_created_at', to_timestamp(col('tweet_created_at'), 'EEE MMM dd HH:mm:ss zzzzz yyyy'))\n",
    "\n",
    "new_df.show(5, truncate=True)"
   ]
  },
  {
   "cell_type": "code",
   "execution_count": null,
   "id": "f988023e-d5d3-4595-bb51-cc9afa34eb53",
   "metadata": {
    "scrolled": true,
    "tags": []
   },
   "outputs": [],
   "source": [
    "edu_tweets.write.format(\"parquet\").\\\n",
    "mode('overwrite').\\\n",
    "save('gs://ksr-tweet-bucket/filtered')\n",
    "\n",
    "new_df.write.format(\"parquet\").\\\n",
    "mode('overwrite').\\\n",
    "save('gs://ksr-tweet-bucket/processed')"
   ]
  },
  {
   "cell_type": "code",
   "execution_count": null,
   "id": "f31142b7-ccab-4bba-a675-7b53cdc58226",
   "metadata": {},
   "outputs": [],
   "source": [
    "%time"
   ]
  },
  {
   "cell_type": "code",
   "execution_count": null,
   "id": "f41ed5e9-77e1-430e-882b-30894bdcd1e2",
   "metadata": {},
   "outputs": [],
   "source": []
  }
 ],
 "metadata": {
  "kernelspec": {
   "display_name": "Python 3 (ipykernel)",
   "language": "python",
   "name": "python3"
  },
  "language_info": {
   "codemirror_mode": {
    "name": "ipython",
    "version": 3
   },
   "file_extension": ".py",
   "mimetype": "text/x-python",
   "name": "python",
   "nbconvert_exporter": "python",
   "pygments_lexer": "ipython3",
   "version": "3.11.0"
  }
 },
 "nbformat": 4,
 "nbformat_minor": 5
}
